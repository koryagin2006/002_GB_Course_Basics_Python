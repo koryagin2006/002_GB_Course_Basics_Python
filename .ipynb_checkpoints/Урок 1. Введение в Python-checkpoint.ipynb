{
 "cells": [
  {
   "cell_type": "markdown",
   "metadata": {},
   "source": [
    "# Переменные. Типы данных. Преобразование типов"
   ]
  },
  {
   "cell_type": "markdown",
   "metadata": {},
   "source": [
    "Зачем нужны переменные?\n",
    "- Переменные используются для хранения данных.\n",
    "- Переменные можно использовать несколько раз.\n",
    "- Можно менять значение и тип переменной. "
   ]
  },
  {
   "cell_type": "markdown",
   "metadata": {},
   "source": [
    "### Как объявить переменную?"
   ]
  },
  {
   "cell_type": "code",
   "execution_count": 3,
   "metadata": {},
   "outputs": [],
   "source": [
    "name = 'Кеша'"
   ]
  },
  {
   "cell_type": "markdown",
   "metadata": {},
   "source": [
    "**NB!** Переменная должна называться так, чтобы по названию можно было понять её предназначение."
   ]
  },
  {
   "cell_type": "code",
   "execution_count": 4,
   "metadata": {},
   "outputs": [],
   "source": [
    "person_name = 'Max'\n",
    "age = 30\n",
    "period = 3.2\n",
    "is_good = True\n",
    "person = None"
   ]
  },
  {
   "cell_type": "markdown",
   "metadata": {},
   "source": [
    "### Тип переменной\n",
    "Тип переменной определяет множество значений, которые могут быть ей присвоены и операции, которые могут быть с нею произведены. Он либо фиксирован в момент объявления переменной и соответствует одному из типов данных, предоставляемых языком программирования (статическая типизация), либо в каждый момент соответствует типу тех данных, что содержит переменная (динамическая типизация)."
   ]
  },
  {
   "cell_type": "markdown",
   "metadata": {},
   "source": [
    "Самые простые типы:\n",
    "- целое число — int\n",
    "- число с плавающей точкой — float\n",
    "- логический тип (истина/ложь) — bool \n",
    "- ничего (пустой тип) — None\n",
    "- строка — str (более сложный тип, будет рассмотрен отдельно) "
   ]
  },
  {
   "cell_type": "code",
   "execution_count": 7,
   "metadata": {},
   "outputs": [
    {
     "name": "stdout",
     "output_type": "stream",
     "text": [
      "<class 'str'>\n",
      "<class 'int'>\n",
      "<class 'float'>\n",
      "<class 'bool'>\n",
      "<class 'NoneType'>\n"
     ]
    }
   ],
   "source": [
    "# определяем тип переменной\n",
    "print(type(person_name))\n",
    "print(type(age))\n",
    "print(type(period))\n",
    "print(type(is_good))\n",
    "print(type(person))"
   ]
  },
  {
   "cell_type": "markdown",
   "metadata": {},
   "source": [
    "### Приведение типов:\n",
    "- число к строке str(number)\n",
    "- строка к числу int(word)\n",
    "- любые другие преобразования аналогично\n"
   ]
  },
  {
   "cell_type": "code",
   "execution_count": 14,
   "metadata": {},
   "outputs": [
    {
     "name": "stdout",
     "output_type": "stream",
     "text": [
      "<class 'str'>\n",
      "<class 'int'>\n"
     ]
    }
   ],
   "source": [
    "bithday_year = '1988'\n",
    "print(type(bithday_year))\n",
    "\n",
    "\n",
    "period = 20\n",
    "print(type(period))\n",
    "\n",
    "# age = bithday_year + period\n",
    "# TypeError: can only concatenate str (not \"int\") to str"
   ]
  },
  {
   "cell_type": "code",
   "execution_count": 13,
   "metadata": {},
   "outputs": [
    {
     "name": "stdout",
     "output_type": "stream",
     "text": [
      "2008\n"
     ]
    }
   ],
   "source": [
    "age = int(bithday_year) + period\n",
    "print(age)"
   ]
  },
  {
   "cell_type": "code",
   "execution_count": 16,
   "metadata": {},
   "outputs": [
    {
     "name": "stdout",
     "output_type": "stream",
     "text": [
      "198820\n"
     ]
    }
   ],
   "source": [
    "some_str = bithday_year + str(period)\n",
    "print(some_str)"
   ]
  },
  {
   "cell_type": "markdown",
   "metadata": {},
   "source": [
    "# Ввод, вывод"
   ]
  },
  {
   "cell_type": "markdown",
   "metadata": {},
   "source": [
    "Куда можно выводить информацию:\n",
    "- GUI\n",
    "- WEB\n",
    "- Мобильное приложение\n",
    "- Хранилище, например файл или база данных\n",
    "- Консоль (Терминал)"
   ]
  },
  {
   "cell_type": "markdown",
   "metadata": {},
   "source": [
    "### `print` - дополнительные возможности\n",
    "- вывод разных типов данных через `,`\n",
    "- использование разных разделителей слов (`sep=`)\n",
    "- использование разных разделителей строк (`end=`)"
   ]
  },
  {
   "cell_type": "code",
   "execution_count": 22,
   "metadata": {},
   "outputs": [
    {
     "name": "stdout",
     "output_type": "stream",
     "text": [
      "Кеша/2\n"
     ]
    }
   ],
   "source": [
    "name = 'Кеша'\n",
    "age = 2\n",
    "\n",
    "print(name, age, sep='/')"
   ]
  },
  {
   "cell_type": "code",
   "execution_count": 24,
   "metadata": {},
   "outputs": [
    {
     "name": "stdout",
     "output_type": "stream",
     "text": [
      "Кеша;2;end;"
     ]
    }
   ],
   "source": [
    "print(name, end=';')  # по-умолчению 'end=\\n'\n",
    "print(age, end=';')\n",
    "print('end', end=';')"
   ]
  },
  {
   "cell_type": "markdown",
   "metadata": {},
   "source": [
    "### Ввод данных. `input()`\n",
    "- `result = input()`\n",
    "- `name = input(‘Как тебя зовут?’)`"
   ]
  },
  {
   "cell_type": "code",
   "execution_count": 26,
   "metadata": {},
   "outputs": [
    {
     "name": "stdout",
     "output_type": "stream",
     "text": [
      "Абракадабра\n",
      "Пользователь ввел Абракадабра\n"
     ]
    }
   ],
   "source": [
    "result = input()\n",
    "print('Пользователь ввел', result)"
   ]
  },
  {
   "cell_type": "code",
   "execution_count": 28,
   "metadata": {},
   "outputs": [
    {
     "name": "stdout",
     "output_type": "stream",
     "text": [
      "Как тебя зовут: Max\n",
      "Примет, Max\n"
     ]
    }
   ],
   "source": [
    "name = input('Как тебя зовут: ')\n",
    "print('Примет,', name)"
   ]
  },
  {
   "cell_type": "markdown",
   "metadata": {},
   "source": [
    "**NB!** Что бы мы ни спрашивали у пользователя, для программы результатом ввода всегда будет строка (тип данных str)."
   ]
  },
  {
   "cell_type": "markdown",
   "metadata": {},
   "source": [
    "# Арифметические и логические операции. Соответствие нескольким условиям `and`, `or`, `not`"
   ]
  },
  {
   "cell_type": "markdown",
   "metadata": {},
   "source": [
    "### Стандартные математические операции"
   ]
  },
  {
   "cell_type": "code",
   "execution_count": 29,
   "metadata": {},
   "outputs": [],
   "source": [
    "ale = 71  # средняя продолжительность жизни в России\n",
    "age = 31"
   ]
  },
  {
   "cell_type": "code",
   "execution_count": 34,
   "metadata": {},
   "outputs": [
    {
     "name": "stdout",
     "output_type": "stream",
     "text": [
      "Через 20 лет Вам будет 51\n"
     ]
    }
   ],
   "source": [
    "# +\n",
    "after_20 = age + 20\n",
    "print('Через 20 лет Вам будет',after_20)"
   ]
  },
  {
   "cell_type": "code",
   "execution_count": 35,
   "metadata": {},
   "outputs": [
    {
     "name": "stdout",
     "output_type": "stream",
     "text": [
      "По-статитике Вам осталось жить 40\n"
     ]
    }
   ],
   "source": [
    "# -\n",
    "alive = ale - age\n",
    "print('По-статитике Вам осталось жить',alive)"
   ]
  },
  {
   "cell_type": "code",
   "execution_count": 36,
   "metadata": {},
   "outputs": [
    {
     "data": {
      "text/plain": [
       "144000000"
      ]
     },
     "execution_count": 36,
     "metadata": {},
     "output_type": "execute_result"
    }
   ],
   "source": [
    "# *\n",
    "count = 144*10**6"
   ]
  },
  {
   "cell_type": "code",
   "execution_count": 37,
   "metadata": {},
   "outputs": [
    {
     "name": "stdout",
     "output_type": "stream",
     "text": [
      "Часть прожитой жизни 0.43661971830985913\n"
     ]
    }
   ],
   "source": [
    "# /\n",
    "alive_part = age / ale\n",
    "print('Часть прожитой жизни', alive_part)"
   ]
  },
  {
   "cell_type": "markdown",
   "metadata": {},
   "source": [
    "### Другие математические операции\n",
    "- `//` - целая часть от деления (аналогична `rounddown` в экселе)\n",
    "- `%` - остаток от деления\n",
    "- `**` - возведение в степень"
   ]
  },
  {
   "cell_type": "code",
   "execution_count": 42,
   "metadata": {},
   "outputs": [
    {
     "name": "stdout",
     "output_type": "stream",
     "text": [
      "1.3098591549295775\n",
      "1\n"
     ]
    }
   ],
   "source": [
    "# /\n",
    "print(age*3 / ale)\n",
    "print(age*3 // ale)"
   ]
  },
  {
   "cell_type": "code",
   "execution_count": 46,
   "metadata": {},
   "outputs": [
    {
     "name": "stdout",
     "output_type": "stream",
     "text": [
      "1.5 \n",
      " 1\n",
      "2.0 \n",
      " 0\n",
      "1.6666666666666667 \n",
      " 2\n"
     ]
    }
   ],
   "source": [
    "# %\n",
    "print(3/2,'\\n',3%2)\n",
    "print(4/2,'\\n',4%2)\n",
    "print(5/3,'\\n',5%3)"
   ]
  },
  {
   "cell_type": "code",
   "execution_count": 47,
   "metadata": {},
   "outputs": [
    {
     "name": "stdout",
     "output_type": "stream",
     "text": [
      "1024\n",
      "16\n"
     ]
    }
   ],
   "source": [
    "# **\n",
    "print(2**10)\n",
    "print(2**4)"
   ]
  },
  {
   "cell_type": "markdown",
   "metadata": {},
   "source": [
    "### Приоритет математических операции\n",
    "- работает как в математике (умножение главнее сложения)\n",
    "- круглые скобки () помогают управлять приоритетамиm"
   ]
  },
  {
   "cell_type": "markdown",
   "metadata": {},
   "source": [
    "# Логические операции\n",
    "- `==` - равно\n",
    "- `!=` - не равно\n",
    "- `>` - больше\n",
    "- `>=` - больше или равно\n",
    "- `<` - меньше\n",
    "- `<=` - меньше или равно"
   ]
  },
  {
   "cell_type": "code",
   "execution_count": 48,
   "metadata": {},
   "outputs": [
    {
     "name": "stdout",
     "output_type": "stream",
     "text": [
      "У вас юбилей: False\n"
     ]
    }
   ],
   "source": [
    "print('У вас юбилей:', age%5 == 0)"
   ]
  },
  {
   "cell_type": "markdown",
   "metadata": {},
   "source": [
    "### Сложные логические выражения\n",
    "- `and` - и (ИСТИНА когда все ИСТИНА иначе ЛОЖЬ)\n",
    "- `or` -  или (ЛОЖЬ когда все ЛОЖЬ иначе ИСТИНА)\n",
    "- `not` - не (ИСТИНА когда ЛОЖЬ, ЛОЖЬ когда ИСТИНА)"
   ]
  },
  {
   "cell_type": "code",
   "execution_count": null,
   "metadata": {},
   "outputs": [],
   "source": []
  }
 ],
 "metadata": {
  "kernelspec": {
   "display_name": "Python 3",
   "language": "python",
   "name": "python3"
  },
  "language_info": {
   "codemirror_mode": {
    "name": "ipython",
    "version": 3
   },
   "file_extension": ".py",
   "mimetype": "text/x-python",
   "name": "python",
   "nbconvert_exporter": "python",
   "pygments_lexer": "ipython3",
   "version": "3.7.4"
  }
 },
 "nbformat": 4,
 "nbformat_minor": 2
}
